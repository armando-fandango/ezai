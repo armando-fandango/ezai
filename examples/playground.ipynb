{
 "cells": [
  {
   "cell_type": "markdown",
   "metadata": {},
   "source": [
    "# Playground Notebook <a class=\"tocSkip\">\n",
    "\n",
    "\n",
    "\n",
    "<table align=\"left\">\n",
    "  <td>\n",
    "    <a target=\"_blank\" href=\"https://colab.research.google.com/github/armando-fandango/ezml\"><img src=\"https://colab.research.google.com/img/colab_favicon.ico\" style=\"width:30px;\" />Run in Google Colab</a>\n",
    "  </td>\n",
    "  <td>\n",
    "    <a target=\"_blank\" href=\"https://github.com/armando-fandango/ezml\"><img src=\"https://github.githubassets.com/images/modules/logos_page/GitHub-Logo.png\" style=\"width:70px;\" vspace=\"7px\"/>View source on GitHub</a>\n",
    "  </td>\n",
    "</table>"
   ]
  },
  {
   "cell_type": "code",
   "execution_count": 1,
   "metadata": {},
   "outputs": [
    {
     "name": "stdout",
     "output_type": "stream",
     "text": [
      "ezai 0.1.0-dev\n"
     ]
    }
   ],
   "source": [
    "import sys\n",
    "import os\n",
    "\n",
    "%reload_ext autoreload\n",
    "%autoreload 2\n",
    "\n",
    "EZAI_ROOT=os.path.join(os.path.expanduser('~'),'projects','ezai')\n",
    "if not EZAI_ROOT in sys.path:\n",
    "    sys.path.append(EZAI_ROOT)\n",
    "import ezai\n",
    "\n",
    "from ezai.util import util\n",
    "util.m_info([ezai]) "
   ]
  },
  {
   "cell_type": "code",
   "execution_count": 2,
   "metadata": {},
   "outputs": [
    {
     "name": "stdout",
     "output_type": "stream",
     "text": [
      "Python  3.7.6 | packaged by conda-forge | (default, Jun  1 2020, 18:57:50) \n",
      "[GCC 7.5.0]\n",
      "numpy 1.18.5\n",
      "pandas 1.0.5\n",
      "matplotlib 3.2.2\n",
      "tensorflow 2.2.0\n",
      "torch 1.0.1\n"
     ]
    }
   ],
   "source": [
    "import numpy as np\n",
    "import pandas as pd\n",
    "\n",
    "import matplotlib as mpl\n",
    "from matplotlib import pyplot as plt\n",
    "import seaborn as sns\n",
    "\n",
    "from IPython.display import display as ipd\n",
    "\n",
    "from os import environ as os_environ\n",
    "os_environ['TF_CPP_MIN_LOG_LEVEL'] = '2' # 0: all, 1: skip INFO 2: skip 1,WARNING 3: skip 1,2,ERROR \n",
    "import tensorflow as tf\n",
    "# this wont work: tf.get_logger().setLevel('ERROR')\n",
    "\n",
    "import torch\n",
    "import tensorflow\n",
    "\n",
    "print('Python ', sys.version)\n",
    "print(sys.executable)\n",
    "\n",
    "util.m_info([np,pd,mpl,sns])\n",
    "util.m_info([tf,torch]) "
   ]
  },
  {
   "cell_type": "code",
   "execution_count": 3,
   "metadata": {},
   "outputs": [],
   "source": [
    "from ezai.util import log_util\n",
    "logger = log_util.get_logger()"
   ]
  },
  {
   "cell_type": "markdown",
   "metadata": {},
   "source": [
    "## GPU Tests"
   ]
  },
  {
   "cell_type": "code",
   "execution_count": 4,
   "metadata": {},
   "outputs": [
    {
     "name": "stdout",
     "output_type": "stream",
     "text": [
      "Tue Jul 21 23:40:32 2020       \r\n",
      "+-----------------------------------------------------------------------------+\r\n",
      "| NVIDIA-SMI 440.95.01    Driver Version: 440.95.01    CUDA Version: 10.2     |\r\n",
      "|-------------------------------+----------------------+----------------------+\r\n",
      "| GPU  Name        Persistence-M| Bus-Id        Disp.A | Volatile Uncorr. ECC |\r\n",
      "| Fan  Temp  Perf  Pwr:Usage/Cap|         Memory-Usage | GPU-Util  Compute M. |\r\n",
      "|===============================+======================+======================|\r\n",
      "|   0  Quadro P5000        On   | 00000000:01:00.0 Off |                  N/A |\r\n",
      "| N/A   61C    P0    30W /  N/A |   1566MiB / 16278MiB |      0%      Default |\r\n",
      "+-------------------------------+----------------------+----------------------+\r\n",
      "                                                                               \r\n",
      "+-----------------------------------------------------------------------------+\r\n",
      "| Processes:                                                       GPU Memory |\r\n",
      "|  GPU       PID   Type   Process name                             Usage      |\r\n",
      "|=============================================================================|\r\n",
      "+-----------------------------------------------------------------------------+\r\n"
     ]
    }
   ],
   "source": [
    "!nvidia-smi"
   ]
  },
  {
   "cell_type": "code",
   "execution_count": 5,
   "metadata": {},
   "outputs": [
    {
     "name": "stderr",
     "output_type": "stream",
     "text": [
      "ezai - I - TensorFlow CUDA version is installed\n",
      "ezai - I - TensorFlow Default GPU Device:/device:GPU:0\n",
      "ezai - I - # of GPU Devices:1\n"
     ]
    }
   ],
   "source": [
    "from ezai.util import tf_util\n",
    "tf_util.gpu_test()"
   ]
  },
  {
   "cell_type": "code",
   "execution_count": 6,
   "metadata": {},
   "outputs": [
    {
     "name": "stderr",
     "output_type": "stream",
     "text": [
      "ezai - I - Torch Current GPU Device # and name:0 Quadro P5000\n",
      "ezai - I - # of GPU Devices:1\n"
     ]
    }
   ],
   "source": [
    "from ezai.util import pt_util\n",
    "pt_util.gpu_test()"
   ]
  },
  {
   "cell_type": "markdown",
   "metadata": {},
   "source": [
    "## Other tasks"
   ]
  },
  {
   "cell_type": "code",
   "execution_count": null,
   "metadata": {},
   "outputs": [],
   "source": []
  },
  {
   "cell_type": "code",
   "execution_count": null,
   "metadata": {},
   "outputs": [],
   "source": []
  }
 ],
 "metadata": {
  "kernelspec": {
   "display_name": "Python 3",
   "language": "python",
   "name": "python3"
  },
  "language_info": {
   "codemirror_mode": {
    "name": "ipython",
    "version": 3
   },
   "file_extension": ".py",
   "mimetype": "text/x-python",
   "name": "python",
   "nbconvert_exporter": "python",
   "pygments_lexer": "ipython3",
   "version": "3.7.6"
  },
  "toc": {
   "base_numbering": 1,
   "nav_menu": {},
   "number_sections": true,
   "sideBar": true,
   "skip_h1_title": false,
   "title_cell": "Table of Contents",
   "title_sidebar": "Contents",
   "toc_cell": false,
   "toc_position": {},
   "toc_section_display": true,
   "toc_window_display": false
  }
 },
 "nbformat": 4,
 "nbformat_minor": 2
}
