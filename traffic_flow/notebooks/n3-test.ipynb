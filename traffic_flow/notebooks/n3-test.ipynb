{
 "cells": [
  {
   "cell_type": "markdown",
   "metadata": {},
   "source": [
    "# n3 test<a class=\"tocSkip\">"
   ]
  },
  {
   "cell_type": "code",
   "execution_count": 3,
   "metadata": {},
   "outputs": [
    {
     "name": "stdout",
     "output_type": "stream",
     "text": [
      "ezai 0.1.0-dev\n"
     ]
    }
   ],
   "source": [
    "import sys\n",
    "import os\n",
    "\n",
    "%reload_ext autoreload\n",
    "%autoreload 2\n",
    "\n",
    "EZAI_ROOT=os.path.join(os.path.expanduser('~'),'projects','ezai')\n",
    "if not EZAI_ROOT in sys.path:\n",
    "    sys.path.append(EZAI_ROOT)\n",
    "import ezai\n",
    "\n",
    "from ezai.util import util\n",
    "util.m_info([ezai]) "
   ]
  },
  {
   "cell_type": "code",
   "execution_count": 4,
   "metadata": {},
   "outputs": [
    {
     "name": "stdout",
     "output_type": "stream",
     "text": [
      "Python  3.7.8 | packaged by conda-forge | (default, Jul 31 2020, 02:25:08) \n",
      "[GCC 7.5.0]\n",
      "/opt/conda/envs/ezai/bin/python\n",
      "numpy 1.19.1\n",
      "pandas 1.1.0\n",
      "matplotlib 3.3.0\n",
      "seaborn 0.10.1\n",
      "tensorflow 2.3.0\n",
      "torch 1.6.0\n"
     ]
    }
   ],
   "source": [
    "import numpy as np\n",
    "import pandas as pd\n",
    "\n",
    "import matplotlib as mpl\n",
    "from matplotlib import pyplot as plt\n",
    "import seaborn as sns\n",
    "\n",
    "from IPython.display import display as ipd\n",
    "\n",
    "print('Python ', sys.version)\n",
    "print(sys.executable)\n",
    "\n",
    "util.m_info([np,pd,mpl,sns])"
   ]
  },
  {
   "cell_type": "code",
   "execution_count": 5,
   "metadata": {},
   "outputs": [],
   "source": [
    "from ezai.util import log_util\n",
    "logger = log_util.get_logger()"
   ]
  },
  {
   "cell_type": "markdown",
   "metadata": {},
   "source": [
    "## GPU Tests"
   ]
  },
  {
   "cell_type": "code",
   "execution_count": 6,
   "metadata": {},
   "outputs": [
    {
     "name": "stdout",
     "output_type": "stream",
     "text": [
      "Fri Jul 31 21:41:04 2020       \r\n",
      "+-----------------------------------------------------------------------------+\r\n",
      "| NVIDIA-SMI 440.95.01    Driver Version: 440.95.01    CUDA Version: 10.2     |\r\n",
      "|-------------------------------+----------------------+----------------------+\r\n",
      "| GPU  Name        Persistence-M| Bus-Id        Disp.A | Volatile Uncorr. ECC |\r\n",
      "| Fan  Temp  Perf  Pwr:Usage/Cap|         Memory-Usage | GPU-Util  Compute M. |\r\n",
      "|===============================+======================+======================|\r\n",
      "|   0  Quadro P5000        On   | 00000000:01:00.0 Off |                  N/A |\r\n",
      "| N/A   67C    P0    34W /  N/A |   1804MiB / 16278MiB |      9%      Default |\r\n",
      "+-------------------------------+----------------------+----------------------+\r\n",
      "                                                                               \r\n",
      "+-----------------------------------------------------------------------------+\r\n",
      "| Processes:                                                       GPU Memory |\r\n",
      "|  GPU       PID   Type   Process name                             Usage      |\r\n",
      "|=============================================================================|\r\n",
      "+-----------------------------------------------------------------------------+\r\n"
     ]
    }
   ],
   "source": [
    "!nvidia-smi"
   ]
  },
  {
   "cell_type": "code",
   "execution_count": 7,
   "metadata": {},
   "outputs": [
    {
     "name": "stderr",
     "output_type": "stream",
     "text": [
      "ezai - I - TensorFlow CUDA version is installed\n",
      "ezai - I - TensorFlow Default GPU Device:/device:GPU:0\n",
      "ezai - I - # of GPU Devices:1\n"
     ]
    }
   ],
   "source": [
    "from ezai.util import tf_util\n",
    "tf_util.gpu_test()"
   ]
  },
  {
   "cell_type": "code",
   "execution_count": 8,
   "metadata": {},
   "outputs": [
    {
     "name": "stderr",
     "output_type": "stream",
     "text": [
      "ezai - I - Torch Current GPU Device # and name:0 Quadro P5000\n",
      "ezai - I - # of GPU Devices:1\n"
     ]
    }
   ],
   "source": [
    "from ezai.util import pt_util\n",
    "pt_util.gpu_test()"
   ]
  },
  {
   "cell_type": "markdown",
   "metadata": {},
   "source": [
    "## Random temporal data creation test"
   ]
  },
  {
   "cell_type": "code",
   "execution_count": 35,
   "metadata": {},
   "outputs": [
    {
     "data": {
      "text/plain": [
       "(400, 2)"
      ]
     },
     "metadata": {},
     "output_type": "display_data"
    },
    {
     "data": {
      "text/plain": [
       "<5 * Minutes>"
      ]
     },
     "metadata": {},
     "output_type": "display_data"
    },
    {
     "data": {
      "text/html": [
       "<div>\n",
       "<style scoped>\n",
       "    .dataframe tbody tr th:only-of-type {\n",
       "        vertical-align: middle;\n",
       "    }\n",
       "\n",
       "    .dataframe tbody tr th {\n",
       "        vertical-align: top;\n",
       "    }\n",
       "\n",
       "    .dataframe thead th {\n",
       "        text-align: right;\n",
       "    }\n",
       "</style>\n",
       "<table border=\"1\" class=\"dataframe\">\n",
       "  <thead>\n",
       "    <tr style=\"text-align: right;\">\n",
       "      <th></th>\n",
       "      <th>col1</th>\n",
       "      <th>col2</th>\n",
       "    </tr>\n",
       "  </thead>\n",
       "  <tbody>\n",
       "    <tr>\n",
       "      <th>2020-01-01 00:00:00</th>\n",
       "      <td>1.000000</td>\n",
       "      <td>11.000000</td>\n",
       "    </tr>\n",
       "    <tr>\n",
       "      <th>2020-01-01 00:05:00</th>\n",
       "      <td>1.022556</td>\n",
       "      <td>11.022556</td>\n",
       "    </tr>\n",
       "    <tr>\n",
       "      <th>2020-01-01 00:10:00</th>\n",
       "      <td>1.045113</td>\n",
       "      <td>11.045113</td>\n",
       "    </tr>\n",
       "    <tr>\n",
       "      <th>2020-01-01 00:15:00</th>\n",
       "      <td>1.067669</td>\n",
       "      <td>11.067669</td>\n",
       "    </tr>\n",
       "    <tr>\n",
       "      <th>2020-01-01 00:20:00</th>\n",
       "      <td>1.090226</td>\n",
       "      <td>11.090226</td>\n",
       "    </tr>\n",
       "  </tbody>\n",
       "</table>\n",
       "</div>"
      ],
      "text/plain": [
       "                         col1       col2\n",
       "2020-01-01 00:00:00  1.000000  11.000000\n",
       "2020-01-01 00:05:00  1.022556  11.022556\n",
       "2020-01-01 00:10:00  1.045113  11.045113\n",
       "2020-01-01 00:15:00  1.067669  11.067669\n",
       "2020-01-01 00:20:00  1.090226  11.090226"
      ]
     },
     "metadata": {},
     "output_type": "display_data"
    },
    {
     "data": {
      "text/plain": [
       "(200, 2)"
      ]
     },
     "metadata": {},
     "output_type": "display_data"
    },
    {
     "data": {
      "text/plain": [
       "<10 * Minutes>"
      ]
     },
     "metadata": {},
     "output_type": "display_data"
    },
    {
     "data": {
      "text/html": [
       "<div>\n",
       "<style scoped>\n",
       "    .dataframe tbody tr th:only-of-type {\n",
       "        vertical-align: middle;\n",
       "    }\n",
       "\n",
       "    .dataframe tbody tr th {\n",
       "        vertical-align: top;\n",
       "    }\n",
       "\n",
       "    .dataframe thead th {\n",
       "        text-align: right;\n",
       "    }\n",
       "</style>\n",
       "<table border=\"1\" class=\"dataframe\">\n",
       "  <thead>\n",
       "    <tr style=\"text-align: right;\">\n",
       "      <th></th>\n",
       "      <th>col1</th>\n",
       "      <th>col2</th>\n",
       "    </tr>\n",
       "  </thead>\n",
       "  <tbody>\n",
       "    <tr>\n",
       "      <th>2020-01-01 00:00:00</th>\n",
       "      <td>1.000000</td>\n",
       "      <td>11.000000</td>\n",
       "    </tr>\n",
       "    <tr>\n",
       "      <th>2020-01-01 00:10:00</th>\n",
       "      <td>1.045113</td>\n",
       "      <td>11.045113</td>\n",
       "    </tr>\n",
       "    <tr>\n",
       "      <th>2020-01-01 00:20:00</th>\n",
       "      <td>1.090226</td>\n",
       "      <td>11.090226</td>\n",
       "    </tr>\n",
       "    <tr>\n",
       "      <th>2020-01-01 00:30:00</th>\n",
       "      <td>1.135338</td>\n",
       "      <td>11.135338</td>\n",
       "    </tr>\n",
       "    <tr>\n",
       "      <th>2020-01-01 00:40:00</th>\n",
       "      <td>1.180451</td>\n",
       "      <td>11.180451</td>\n",
       "    </tr>\n",
       "  </tbody>\n",
       "</table>\n",
       "</div>"
      ],
      "text/plain": [
       "                         col1       col2\n",
       "2020-01-01 00:00:00  1.000000  11.000000\n",
       "2020-01-01 00:10:00  1.045113  11.045113\n",
       "2020-01-01 00:20:00  1.090226  11.090226\n",
       "2020-01-01 00:30:00  1.135338  11.135338\n",
       "2020-01-01 00:40:00  1.180451  11.180451"
      ]
     },
     "metadata": {},
     "output_type": "display_data"
    },
    {
     "data": {
      "text/plain": [
       "(134, 2)"
      ]
     },
     "metadata": {},
     "output_type": "display_data"
    },
    {
     "data": {
      "text/plain": [
       "<15 * Minutes>"
      ]
     },
     "metadata": {},
     "output_type": "display_data"
    },
    {
     "data": {
      "text/html": [
       "<div>\n",
       "<style scoped>\n",
       "    .dataframe tbody tr th:only-of-type {\n",
       "        vertical-align: middle;\n",
       "    }\n",
       "\n",
       "    .dataframe tbody tr th {\n",
       "        vertical-align: top;\n",
       "    }\n",
       "\n",
       "    .dataframe thead th {\n",
       "        text-align: right;\n",
       "    }\n",
       "</style>\n",
       "<table border=\"1\" class=\"dataframe\">\n",
       "  <thead>\n",
       "    <tr style=\"text-align: right;\">\n",
       "      <th></th>\n",
       "      <th>col1</th>\n",
       "      <th>col2</th>\n",
       "    </tr>\n",
       "  </thead>\n",
       "  <tbody>\n",
       "    <tr>\n",
       "      <th>2020-01-01 00:00:00</th>\n",
       "      <td>1.000000</td>\n",
       "      <td>11.000000</td>\n",
       "    </tr>\n",
       "    <tr>\n",
       "      <th>2020-01-01 00:15:00</th>\n",
       "      <td>1.067669</td>\n",
       "      <td>11.067669</td>\n",
       "    </tr>\n",
       "    <tr>\n",
       "      <th>2020-01-01 00:30:00</th>\n",
       "      <td>1.135338</td>\n",
       "      <td>11.135338</td>\n",
       "    </tr>\n",
       "    <tr>\n",
       "      <th>2020-01-01 00:45:00</th>\n",
       "      <td>1.203008</td>\n",
       "      <td>11.203008</td>\n",
       "    </tr>\n",
       "    <tr>\n",
       "      <th>2020-01-01 01:00:00</th>\n",
       "      <td>1.270677</td>\n",
       "      <td>11.270677</td>\n",
       "    </tr>\n",
       "  </tbody>\n",
       "</table>\n",
       "</div>"
      ],
      "text/plain": [
       "                         col1       col2\n",
       "2020-01-01 00:00:00  1.000000  11.000000\n",
       "2020-01-01 00:15:00  1.067669  11.067669\n",
       "2020-01-01 00:30:00  1.135338  11.135338\n",
       "2020-01-01 00:45:00  1.203008  11.203008\n",
       "2020-01-01 01:00:00  1.270677  11.270677"
      ]
     },
     "metadata": {},
     "output_type": "display_data"
    },
    {
     "data": {
      "text/plain": [
       "(67, 2)"
      ]
     },
     "metadata": {},
     "output_type": "display_data"
    },
    {
     "data": {
      "text/plain": [
       "<30 * Minutes>"
      ]
     },
     "metadata": {},
     "output_type": "display_data"
    },
    {
     "data": {
      "text/html": [
       "<div>\n",
       "<style scoped>\n",
       "    .dataframe tbody tr th:only-of-type {\n",
       "        vertical-align: middle;\n",
       "    }\n",
       "\n",
       "    .dataframe tbody tr th {\n",
       "        vertical-align: top;\n",
       "    }\n",
       "\n",
       "    .dataframe thead th {\n",
       "        text-align: right;\n",
       "    }\n",
       "</style>\n",
       "<table border=\"1\" class=\"dataframe\">\n",
       "  <thead>\n",
       "    <tr style=\"text-align: right;\">\n",
       "      <th></th>\n",
       "      <th>col1</th>\n",
       "      <th>col2</th>\n",
       "    </tr>\n",
       "  </thead>\n",
       "  <tbody>\n",
       "    <tr>\n",
       "      <th>2020-01-01 00:00:00</th>\n",
       "      <td>1.000000</td>\n",
       "      <td>11.000000</td>\n",
       "    </tr>\n",
       "    <tr>\n",
       "      <th>2020-01-01 00:30:00</th>\n",
       "      <td>1.135338</td>\n",
       "      <td>11.135338</td>\n",
       "    </tr>\n",
       "    <tr>\n",
       "      <th>2020-01-01 01:00:00</th>\n",
       "      <td>1.270677</td>\n",
       "      <td>11.270677</td>\n",
       "    </tr>\n",
       "    <tr>\n",
       "      <th>2020-01-01 01:30:00</th>\n",
       "      <td>1.406015</td>\n",
       "      <td>11.406015</td>\n",
       "    </tr>\n",
       "    <tr>\n",
       "      <th>2020-01-01 02:00:00</th>\n",
       "      <td>1.541353</td>\n",
       "      <td>11.541353</td>\n",
       "    </tr>\n",
       "  </tbody>\n",
       "</table>\n",
       "</div>"
      ],
      "text/plain": [
       "                         col1       col2\n",
       "2020-01-01 00:00:00  1.000000  11.000000\n",
       "2020-01-01 00:30:00  1.135338  11.135338\n",
       "2020-01-01 01:00:00  1.270677  11.270677\n",
       "2020-01-01 01:30:00  1.406015  11.406015\n",
       "2020-01-01 02:00:00  1.541353  11.541353"
      ]
     },
     "metadata": {},
     "output_type": "display_data"
    }
   ],
   "source": [
    "n_rows = 400\n",
    "idx = pd.date_range('2020-01-01', periods=n_rows, freq='5T')\n",
    "df2d_5T = pd.DataFrame({'col1':np.linspace(1,10,n_rows),\n",
    "                        'col2':np.linspace(11,20,n_rows)},\n",
    "                       index=idx)\n",
    "ipd(df2d_5T.shape,df2d_5T.index.freq,df2d_5T.head())\n",
    "df2d_10T = temporal.interpolate(df2d_5T,freq='10T')\n",
    "ipd(df2d_10T.shape,df2d_10T.index.freq,df2d_10T.head())\n",
    "df2d_15T = temporal.interpolate(df2d_5T,freq='15T')\n",
    "ipd(df2d_15T.shape,df2d_15T.index.freq,df2d_15T.head())\n",
    "df2d_30T = temporal.interpolate(df2d_5T,freq='30T')\n",
    "ipd(df2d_30T.shape,df2d_30T.index.freq, df2d_30T.head())"
   ]
  },
  {
   "cell_type": "code",
   "execution_count": 55,
   "metadata": {},
   "outputs": [
    {
     "data": {
      "text/html": [
       "<div>\n",
       "<style scoped>\n",
       "    .dataframe tbody tr th:only-of-type {\n",
       "        vertical-align: middle;\n",
       "    }\n",
       "\n",
       "    .dataframe tbody tr th {\n",
       "        vertical-align: top;\n",
       "    }\n",
       "\n",
       "    .dataframe thead th {\n",
       "        text-align: right;\n",
       "    }\n",
       "</style>\n",
       "<table border=\"1\" class=\"dataframe\">\n",
       "  <thead>\n",
       "    <tr style=\"text-align: right;\">\n",
       "      <th></th>\n",
       "      <th>col1_t-0</th>\n",
       "      <th>col2_t-0</th>\n",
       "      <th>col1_t+1</th>\n",
       "      <th>col2_t+1</th>\n",
       "    </tr>\n",
       "  </thead>\n",
       "  <tbody>\n",
       "    <tr>\n",
       "      <th>2020-01-01 00:00:00</th>\n",
       "      <td>1.000000</td>\n",
       "      <td>11.000000</td>\n",
       "      <td>1.135338</td>\n",
       "      <td>11.135339</td>\n",
       "    </tr>\n",
       "    <tr>\n",
       "      <th>2020-01-01 00:30:00</th>\n",
       "      <td>1.135338</td>\n",
       "      <td>11.135339</td>\n",
       "      <td>1.270677</td>\n",
       "      <td>11.270677</td>\n",
       "    </tr>\n",
       "    <tr>\n",
       "      <th>2020-01-01 01:00:00</th>\n",
       "      <td>1.270677</td>\n",
       "      <td>11.270677</td>\n",
       "      <td>1.406015</td>\n",
       "      <td>11.406015</td>\n",
       "    </tr>\n",
       "    <tr>\n",
       "      <th>2020-01-01 01:30:00</th>\n",
       "      <td>1.406015</td>\n",
       "      <td>11.406015</td>\n",
       "      <td>1.541353</td>\n",
       "      <td>11.541353</td>\n",
       "    </tr>\n",
       "    <tr>\n",
       "      <th>2020-01-01 02:00:00</th>\n",
       "      <td>1.541353</td>\n",
       "      <td>11.541353</td>\n",
       "      <td>1.676692</td>\n",
       "      <td>11.676692</td>\n",
       "    </tr>\n",
       "  </tbody>\n",
       "</table>\n",
       "</div>"
      ],
      "text/plain": [
       "                     col1_t-0   col2_t-0  col1_t+1   col2_t+1\n",
       "2020-01-01 00:00:00  1.000000  11.000000  1.135338  11.135339\n",
       "2020-01-01 00:30:00  1.135338  11.135339  1.270677  11.270677\n",
       "2020-01-01 01:00:00  1.270677  11.270677  1.406015  11.406015\n",
       "2020-01-01 01:30:00  1.406015  11.406015  1.541353  11.541353\n",
       "2020-01-01 02:00:00  1.541353  11.541353  1.676692  11.676692"
      ]
     },
     "metadata": {},
     "output_type": "display_data"
    }
   ],
   "source": [
    "xy,cols = temporal.df_to_xy(df2d_30T,dim3=False)\n",
    "ipd(xy.head())"
   ]
  },
  {
   "cell_type": "code",
   "execution_count": 56,
   "metadata": {},
   "outputs": [
    {
     "data": {
      "text/plain": [
       "array([[[ 1.       , 11.       ]],\n",
       "\n",
       "       [[ 1.1353383, 11.135339 ]],\n",
       "\n",
       "       [[ 1.2706767, 11.270677 ]],\n",
       "\n",
       "       [[ 1.406015 , 11.406015 ]],\n",
       "\n",
       "       [[ 1.5413533, 11.541353 ]]], dtype=float32)"
      ]
     },
     "metadata": {},
     "output_type": "display_data"
    },
    {
     "data": {
      "text/plain": [
       "array([[[ 1.1353383, 11.135339 ]],\n",
       "\n",
       "       [[ 1.2706767, 11.270677 ]],\n",
       "\n",
       "       [[ 1.406015 , 11.406015 ]],\n",
       "\n",
       "       [[ 1.5413533, 11.541353 ]],\n",
       "\n",
       "       [[ 1.6766918, 11.676692 ]]], dtype=float32)"
      ]
     },
     "metadata": {},
     "output_type": "display_data"
    }
   ],
   "source": [
    "xy,cols = temporal.df_to_xy(df2d_30T,dim3=True)\n",
    "print(xy[0].shape,xy[1].shape)\n",
    "a = xy[0][:5]\n",
    "print(a.reshape(a.shape[0],-1))\n",
    "a = xy[1][:5]\n",
    "print(a.reshape(a.shape[0],-1))"
   ]
  },
  {
   "cell_type": "code",
   "execution_count": 58,
   "metadata": {},
   "outputs": [],
   "source": [
    "n_tx=6\n",
    "n_ty=1\n",
    "n_tx_step = 1"
   ]
  },
  {
   "cell_type": "code",
   "execution_count": 112,
   "metadata": {},
   "outputs": [
    {
     "data": {
      "text/html": [
       "<div>\n",
       "<style scoped>\n",
       "    .dataframe tbody tr th:only-of-type {\n",
       "        vertical-align: middle;\n",
       "    }\n",
       "\n",
       "    .dataframe tbody tr th {\n",
       "        vertical-align: top;\n",
       "    }\n",
       "\n",
       "    .dataframe thead th {\n",
       "        text-align: right;\n",
       "    }\n",
       "</style>\n",
       "<table border=\"1\" class=\"dataframe\">\n",
       "  <thead>\n",
       "    <tr style=\"text-align: right;\">\n",
       "      <th></th>\n",
       "      <th>col1_t-2</th>\n",
       "      <th>col2_t-2</th>\n",
       "      <th>col1_t-1</th>\n",
       "      <th>col2_t-1</th>\n",
       "      <th>col1_t-0</th>\n",
       "      <th>col2_t-0</th>\n",
       "      <th>col1_t+1</th>\n",
       "      <th>col2_t+1</th>\n",
       "    </tr>\n",
       "  </thead>\n",
       "  <tbody>\n",
       "    <tr>\n",
       "      <th>2020-01-01 00:00:00</th>\n",
       "      <td>1.000000</td>\n",
       "      <td>11.000000</td>\n",
       "      <td>1.022556</td>\n",
       "      <td>11.022556</td>\n",
       "      <td>1.045113</td>\n",
       "      <td>11.045113</td>\n",
       "      <td>1.067669</td>\n",
       "      <td>11.067669</td>\n",
       "    </tr>\n",
       "    <tr>\n",
       "      <th>2020-01-01 00:15:00</th>\n",
       "      <td>1.067669</td>\n",
       "      <td>11.067669</td>\n",
       "      <td>1.090226</td>\n",
       "      <td>11.090225</td>\n",
       "      <td>1.112782</td>\n",
       "      <td>11.112782</td>\n",
       "      <td>1.135338</td>\n",
       "      <td>11.135339</td>\n",
       "    </tr>\n",
       "    <tr>\n",
       "      <th>2020-01-01 00:30:00</th>\n",
       "      <td>1.135338</td>\n",
       "      <td>11.135339</td>\n",
       "      <td>1.157895</td>\n",
       "      <td>11.157895</td>\n",
       "      <td>1.180451</td>\n",
       "      <td>11.180451</td>\n",
       "      <td>1.203007</td>\n",
       "      <td>11.203008</td>\n",
       "    </tr>\n",
       "    <tr>\n",
       "      <th>2020-01-01 00:45:00</th>\n",
       "      <td>1.203007</td>\n",
       "      <td>11.203008</td>\n",
       "      <td>1.225564</td>\n",
       "      <td>11.225564</td>\n",
       "      <td>1.248120</td>\n",
       "      <td>11.248120</td>\n",
       "      <td>1.270677</td>\n",
       "      <td>11.270677</td>\n",
       "    </tr>\n",
       "    <tr>\n",
       "      <th>2020-01-01 01:00:00</th>\n",
       "      <td>1.270677</td>\n",
       "      <td>11.270677</td>\n",
       "      <td>1.293233</td>\n",
       "      <td>11.293233</td>\n",
       "      <td>1.315789</td>\n",
       "      <td>11.315789</td>\n",
       "      <td>1.338346</td>\n",
       "      <td>11.338346</td>\n",
       "    </tr>\n",
       "  </tbody>\n",
       "</table>\n",
       "</div>"
      ],
      "text/plain": [
       "                     col1_t-2   col2_t-2  col1_t-1   col2_t-1  col1_t-0  \\\n",
       "2020-01-01 00:00:00  1.000000  11.000000  1.022556  11.022556  1.045113   \n",
       "2020-01-01 00:15:00  1.067669  11.067669  1.090226  11.090225  1.112782   \n",
       "2020-01-01 00:30:00  1.135338  11.135339  1.157895  11.157895  1.180451   \n",
       "2020-01-01 00:45:00  1.203007  11.203008  1.225564  11.225564  1.248120   \n",
       "2020-01-01 01:00:00  1.270677  11.270677  1.293233  11.293233  1.315789   \n",
       "\n",
       "                      col2_t-0  col1_t+1   col2_t+1  \n",
       "2020-01-01 00:00:00  11.045113  1.067669  11.067669  \n",
       "2020-01-01 00:15:00  11.112782  1.135338  11.135339  \n",
       "2020-01-01 00:30:00  11.180451  1.203007  11.203008  \n",
       "2020-01-01 00:45:00  11.248120  1.270677  11.270677  \n",
       "2020-01-01 01:00:00  11.315789  1.338346  11.338346  "
      ]
     },
     "metadata": {},
     "output_type": "display_data"
    }
   ],
   "source": [
    "xy,cols = temporal.df_to_xy(df2d_5T,n_tx=n_tx,n_ty=1,dim3=False)\n",
    "ipd(xy.head(6*5).iloc[::n_tx,:])"
   ]
  },
  {
   "cell_type": "code",
   "execution_count": 64,
   "metadata": {},
   "outputs": [
    {
     "data": {
      "text/html": [
       "<div>\n",
       "<style scoped>\n",
       "    .dataframe tbody tr th:only-of-type {\n",
       "        vertical-align: middle;\n",
       "    }\n",
       "\n",
       "    .dataframe tbody tr th {\n",
       "        vertical-align: top;\n",
       "    }\n",
       "\n",
       "    .dataframe thead th {\n",
       "        text-align: right;\n",
       "    }\n",
       "</style>\n",
       "<table border=\"1\" class=\"dataframe\">\n",
       "  <thead>\n",
       "    <tr style=\"text-align: right;\">\n",
       "      <th></th>\n",
       "      <th>col1_t-0</th>\n",
       "      <th>col2_t-0</th>\n",
       "      <th>col1_t+1</th>\n",
       "      <th>col2_t+1</th>\n",
       "    </tr>\n",
       "  </thead>\n",
       "  <tbody>\n",
       "    <tr>\n",
       "      <th>2020-01-01 00:00:00</th>\n",
       "      <td>1.000000</td>\n",
       "      <td>11.000000</td>\n",
       "      <td>1.135338</td>\n",
       "      <td>11.135339</td>\n",
       "    </tr>\n",
       "    <tr>\n",
       "      <th>2020-01-01 00:30:00</th>\n",
       "      <td>1.135338</td>\n",
       "      <td>11.135339</td>\n",
       "      <td>1.270677</td>\n",
       "      <td>11.270677</td>\n",
       "    </tr>\n",
       "    <tr>\n",
       "      <th>2020-01-01 01:00:00</th>\n",
       "      <td>1.270677</td>\n",
       "      <td>11.270677</td>\n",
       "      <td>1.406015</td>\n",
       "      <td>11.406015</td>\n",
       "    </tr>\n",
       "    <tr>\n",
       "      <th>2020-01-01 01:30:00</th>\n",
       "      <td>1.406015</td>\n",
       "      <td>11.406015</td>\n",
       "      <td>1.541353</td>\n",
       "      <td>11.541353</td>\n",
       "    </tr>\n",
       "    <tr>\n",
       "      <th>2020-01-01 02:00:00</th>\n",
       "      <td>1.541353</td>\n",
       "      <td>11.541353</td>\n",
       "      <td>1.676692</td>\n",
       "      <td>11.676692</td>\n",
       "    </tr>\n",
       "  </tbody>\n",
       "</table>\n",
       "</div>"
      ],
      "text/plain": [
       "                     col1_t-0   col2_t-0  col1_t+1   col2_t+1\n",
       "2020-01-01 00:00:00  1.000000  11.000000  1.135338  11.135339\n",
       "2020-01-01 00:30:00  1.135338  11.135339  1.270677  11.270677\n",
       "2020-01-01 01:00:00  1.270677  11.270677  1.406015  11.406015\n",
       "2020-01-01 01:30:00  1.406015  11.406015  1.541353  11.541353\n",
       "2020-01-01 02:00:00  1.541353  11.541353  1.676692  11.676692"
      ]
     },
     "metadata": {},
     "output_type": "display_data"
    }
   ],
   "source": [
    "xy,cols = temporal.df_to_xy(df2d_30T,n_tx=1,n_ty=n_ty,dim3=False)\n",
    "ipd(xy.head())"
   ]
  },
  {
   "cell_type": "code",
   "execution_count": 82,
   "metadata": {},
   "outputs": [
    {
     "data": {
      "text/plain": [
       "(66, 14)"
      ]
     },
     "metadata": {},
     "output_type": "display_data"
    },
    {
     "data": {
      "text/html": [
       "<div>\n",
       "<style scoped>\n",
       "    .dataframe tbody tr th:only-of-type {\n",
       "        vertical-align: middle;\n",
       "    }\n",
       "\n",
       "    .dataframe tbody tr th {\n",
       "        vertical-align: top;\n",
       "    }\n",
       "\n",
       "    .dataframe thead th {\n",
       "        text-align: right;\n",
       "    }\n",
       "</style>\n",
       "<table border=\"1\" class=\"dataframe\">\n",
       "  <thead>\n",
       "    <tr style=\"text-align: right;\">\n",
       "      <th></th>\n",
       "      <th>col1_t-5</th>\n",
       "      <th>col2_t-5</th>\n",
       "      <th>col1_t-4</th>\n",
       "      <th>col2_t-4</th>\n",
       "      <th>col1_t-3</th>\n",
       "      <th>col2_t-3</th>\n",
       "      <th>col1_t-2</th>\n",
       "      <th>col2_t-2</th>\n",
       "      <th>col1_t-1</th>\n",
       "      <th>col2_t-1</th>\n",
       "      <th>col1_t-0</th>\n",
       "      <th>col2_t-0</th>\n",
       "      <th>col1_t+1</th>\n",
       "      <th>col2_t+1</th>\n",
       "    </tr>\n",
       "  </thead>\n",
       "  <tbody>\n",
       "    <tr>\n",
       "      <th>2020-01-01 00:00:00</th>\n",
       "      <td>1.000000</td>\n",
       "      <td>11.000000</td>\n",
       "      <td>1.022556</td>\n",
       "      <td>11.022556</td>\n",
       "      <td>1.045113</td>\n",
       "      <td>11.045113</td>\n",
       "      <td>1.067669</td>\n",
       "      <td>11.067669</td>\n",
       "      <td>1.090226</td>\n",
       "      <td>11.090225</td>\n",
       "      <td>1.112782</td>\n",
       "      <td>11.112782</td>\n",
       "      <td>1.135338</td>\n",
       "      <td>11.135339</td>\n",
       "    </tr>\n",
       "    <tr>\n",
       "      <th>2020-01-01 00:30:00</th>\n",
       "      <td>1.135338</td>\n",
       "      <td>11.135339</td>\n",
       "      <td>1.157895</td>\n",
       "      <td>11.157895</td>\n",
       "      <td>1.180451</td>\n",
       "      <td>11.180451</td>\n",
       "      <td>1.203007</td>\n",
       "      <td>11.203008</td>\n",
       "      <td>1.225564</td>\n",
       "      <td>11.225564</td>\n",
       "      <td>1.248120</td>\n",
       "      <td>11.248120</td>\n",
       "      <td>1.270677</td>\n",
       "      <td>11.270677</td>\n",
       "    </tr>\n",
       "    <tr>\n",
       "      <th>2020-01-01 01:00:00</th>\n",
       "      <td>1.270677</td>\n",
       "      <td>11.270677</td>\n",
       "      <td>1.293233</td>\n",
       "      <td>11.293233</td>\n",
       "      <td>1.315789</td>\n",
       "      <td>11.315789</td>\n",
       "      <td>1.338346</td>\n",
       "      <td>11.338346</td>\n",
       "      <td>1.360902</td>\n",
       "      <td>11.360902</td>\n",
       "      <td>1.383459</td>\n",
       "      <td>11.383459</td>\n",
       "      <td>1.406015</td>\n",
       "      <td>11.406015</td>\n",
       "    </tr>\n",
       "    <tr>\n",
       "      <th>2020-01-01 01:30:00</th>\n",
       "      <td>1.406015</td>\n",
       "      <td>11.406015</td>\n",
       "      <td>1.428571</td>\n",
       "      <td>11.428572</td>\n",
       "      <td>1.451128</td>\n",
       "      <td>11.451128</td>\n",
       "      <td>1.473684</td>\n",
       "      <td>11.473684</td>\n",
       "      <td>1.496241</td>\n",
       "      <td>11.496241</td>\n",
       "      <td>1.518797</td>\n",
       "      <td>11.518797</td>\n",
       "      <td>1.541353</td>\n",
       "      <td>11.541353</td>\n",
       "    </tr>\n",
       "    <tr>\n",
       "      <th>2020-01-01 02:00:00</th>\n",
       "      <td>1.541353</td>\n",
       "      <td>11.541353</td>\n",
       "      <td>1.563910</td>\n",
       "      <td>11.563910</td>\n",
       "      <td>1.586466</td>\n",
       "      <td>11.586466</td>\n",
       "      <td>1.609022</td>\n",
       "      <td>11.609022</td>\n",
       "      <td>1.631579</td>\n",
       "      <td>11.631579</td>\n",
       "      <td>1.654135</td>\n",
       "      <td>11.654136</td>\n",
       "      <td>1.676692</td>\n",
       "      <td>11.676692</td>\n",
       "    </tr>\n",
       "  </tbody>\n",
       "</table>\n",
       "</div>"
      ],
      "text/plain": [
       "                     col1_t-5   col2_t-5  col1_t-4   col2_t-4  col1_t-3  \\\n",
       "2020-01-01 00:00:00  1.000000  11.000000  1.022556  11.022556  1.045113   \n",
       "2020-01-01 00:30:00  1.135338  11.135339  1.157895  11.157895  1.180451   \n",
       "2020-01-01 01:00:00  1.270677  11.270677  1.293233  11.293233  1.315789   \n",
       "2020-01-01 01:30:00  1.406015  11.406015  1.428571  11.428572  1.451128   \n",
       "2020-01-01 02:00:00  1.541353  11.541353  1.563910  11.563910  1.586466   \n",
       "\n",
       "                      col2_t-3  col1_t-2   col2_t-2  col1_t-1   col2_t-1  \\\n",
       "2020-01-01 00:00:00  11.045113  1.067669  11.067669  1.090226  11.090225   \n",
       "2020-01-01 00:30:00  11.180451  1.203007  11.203008  1.225564  11.225564   \n",
       "2020-01-01 01:00:00  11.315789  1.338346  11.338346  1.360902  11.360902   \n",
       "2020-01-01 01:30:00  11.451128  1.473684  11.473684  1.496241  11.496241   \n",
       "2020-01-01 02:00:00  11.586466  1.609022  11.609022  1.631579  11.631579   \n",
       "\n",
       "                     col1_t-0   col2_t-0  col1_t+1   col2_t+1  \n",
       "2020-01-01 00:00:00  1.112782  11.112782  1.135338  11.135339  \n",
       "2020-01-01 00:30:00  1.248120  11.248120  1.270677  11.270677  \n",
       "2020-01-01 01:00:00  1.383459  11.383459  1.406015  11.406015  \n",
       "2020-01-01 01:30:00  1.518797  11.518797  1.541353  11.541353  \n",
       "2020-01-01 02:00:00  1.654135  11.654136  1.676692  11.676692  "
      ]
     },
     "metadata": {},
     "output_type": "display_data"
    }
   ],
   "source": [
    "xy,cols = temporal.dfs_to_xy(df2d_5T,df2d_30T,\n",
    "                             n_tx_step=n_tx_step,n_ty_step=6, n_tx=n_tx, n_ty=n_ty,\n",
    "                             dim3=False)\n",
    "print(xy.shape)\n",
    "ipd(xy.head())"
   ]
  },
  {
   "cell_type": "code",
   "execution_count": 97,
   "metadata": {},
   "outputs": [
    {
     "name": "stdout",
     "output_type": "stream",
     "text": [
      "(66, 6, 2) (66, 1, 2)\n",
      "[[ 1.        11.         1.0225564 11.022556   1.0451127 11.045113\n",
      "   1.0676692 11.067669   1.0902256 11.090225   1.112782  11.112782 ]\n",
      " [ 1.1353383 11.135339   1.1578947 11.157895   1.1804512 11.180451\n",
      "   1.2030075 11.203008   1.2255639 11.225564   1.2481203 11.24812  ]\n",
      " [ 1.2706767 11.270677   1.293233  11.293233   1.3157895 11.315789\n",
      "   1.3383459 11.338346   1.3609023 11.360902   1.3834586 11.383459 ]\n",
      " [ 1.406015  11.406015   1.4285715 11.428572   1.4511278 11.451128\n",
      "   1.4736842 11.473684   1.4962406 11.496241   1.518797  11.518797 ]\n",
      " [ 1.5413533 11.541353   1.5639098 11.56391    1.5864662 11.586466\n",
      "   1.6090225 11.609022   1.6315789 11.631579   1.6541353 11.654136 ]]\n",
      "[[ 1.1353383 11.135339 ]\n",
      " [ 1.2706767 11.270677 ]\n",
      " [ 1.406015  11.406015 ]\n",
      " [ 1.5413533 11.541353 ]\n",
      " [ 1.6766918 11.676692 ]]\n"
     ]
    }
   ],
   "source": [
    "xy,cols = temporal.dfs_to_xy(df2d_5T,df2d_30T,\n",
    "                             n_tx_step=n_tx_step,n_ty_step=6, n_tx=n_tx, n_ty=n_ty,\n",
    "                             dim3=True)\n",
    "print(xy[0].shape,xy[1].shape)\n",
    "a = xy[0][:5]\n",
    "print(a.reshape(a.shape[0],-1))\n",
    "a = xy[1][:5]\n",
    "print(a.reshape(a.shape[0],-1))"
   ]
  },
  {
   "cell_type": "code",
   "execution_count": 101,
   "metadata": {},
   "outputs": [],
   "source": [
    "n_tx = 3\n",
    "n_ty = 2\n",
    "n_tx_step = 2"
   ]
  },
  {
   "cell_type": "code",
   "execution_count": 105,
   "metadata": {},
   "outputs": [
    {
     "name": "stdout",
     "output_type": "stream",
     "text": [
      "xy_df: (66, 10)\n",
      "['col1_t-2', 'col2_t-2', 'col1_t-1', 'col2_t-1', 'col1_t-0', 'col2_t-0'] ['col1_t+1', 'col2_t+1', 'col1_t+2', 'col2_t+2']\n",
      "(66, 10)\n"
     ]
    },
    {
     "data": {
      "text/html": [
       "<div>\n",
       "<style scoped>\n",
       "    .dataframe tbody tr th:only-of-type {\n",
       "        vertical-align: middle;\n",
       "    }\n",
       "\n",
       "    .dataframe tbody tr th {\n",
       "        vertical-align: top;\n",
       "    }\n",
       "\n",
       "    .dataframe thead th {\n",
       "        text-align: right;\n",
       "    }\n",
       "</style>\n",
       "<table border=\"1\" class=\"dataframe\">\n",
       "  <thead>\n",
       "    <tr style=\"text-align: right;\">\n",
       "      <th></th>\n",
       "      <th>col1_t-2</th>\n",
       "      <th>col2_t-2</th>\n",
       "      <th>col1_t-1</th>\n",
       "      <th>col2_t-1</th>\n",
       "      <th>col1_t-0</th>\n",
       "      <th>col2_t-0</th>\n",
       "      <th>col1_t+1</th>\n",
       "      <th>col2_t+1</th>\n",
       "      <th>col1_t+2</th>\n",
       "      <th>col2_t+2</th>\n",
       "    </tr>\n",
       "  </thead>\n",
       "  <tbody>\n",
       "    <tr>\n",
       "      <th>2020-01-01 00:00:00</th>\n",
       "      <td>1.000000</td>\n",
       "      <td>11.000000</td>\n",
       "      <td>1.045113</td>\n",
       "      <td>11.045113</td>\n",
       "      <td>1.090226</td>\n",
       "      <td>11.090225</td>\n",
       "      <td>1.135338</td>\n",
       "      <td>11.135339</td>\n",
       "      <td>1.270677</td>\n",
       "      <td>11.270677</td>\n",
       "    </tr>\n",
       "    <tr>\n",
       "      <th>2020-01-01 00:30:00</th>\n",
       "      <td>1.135338</td>\n",
       "      <td>11.135339</td>\n",
       "      <td>1.180451</td>\n",
       "      <td>11.180451</td>\n",
       "      <td>1.225564</td>\n",
       "      <td>11.225564</td>\n",
       "      <td>1.270677</td>\n",
       "      <td>11.270677</td>\n",
       "      <td>1.406015</td>\n",
       "      <td>11.406015</td>\n",
       "    </tr>\n",
       "    <tr>\n",
       "      <th>2020-01-01 01:00:00</th>\n",
       "      <td>1.270677</td>\n",
       "      <td>11.270677</td>\n",
       "      <td>1.315789</td>\n",
       "      <td>11.315789</td>\n",
       "      <td>1.360902</td>\n",
       "      <td>11.360902</td>\n",
       "      <td>1.406015</td>\n",
       "      <td>11.406015</td>\n",
       "      <td>1.541353</td>\n",
       "      <td>11.541353</td>\n",
       "    </tr>\n",
       "    <tr>\n",
       "      <th>2020-01-01 01:30:00</th>\n",
       "      <td>1.406015</td>\n",
       "      <td>11.406015</td>\n",
       "      <td>1.451128</td>\n",
       "      <td>11.451128</td>\n",
       "      <td>1.496241</td>\n",
       "      <td>11.496241</td>\n",
       "      <td>1.541353</td>\n",
       "      <td>11.541353</td>\n",
       "      <td>1.676692</td>\n",
       "      <td>11.676692</td>\n",
       "    </tr>\n",
       "    <tr>\n",
       "      <th>2020-01-01 02:00:00</th>\n",
       "      <td>1.541353</td>\n",
       "      <td>11.541353</td>\n",
       "      <td>1.586466</td>\n",
       "      <td>11.586466</td>\n",
       "      <td>1.631579</td>\n",
       "      <td>11.631579</td>\n",
       "      <td>1.676692</td>\n",
       "      <td>11.676692</td>\n",
       "      <td>1.812030</td>\n",
       "      <td>11.812030</td>\n",
       "    </tr>\n",
       "  </tbody>\n",
       "</table>\n",
       "</div>"
      ],
      "text/plain": [
       "                     col1_t-2   col2_t-2  col1_t-1   col2_t-1  col1_t-0  \\\n",
       "2020-01-01 00:00:00  1.000000  11.000000  1.045113  11.045113  1.090226   \n",
       "2020-01-01 00:30:00  1.135338  11.135339  1.180451  11.180451  1.225564   \n",
       "2020-01-01 01:00:00  1.270677  11.270677  1.315789  11.315789  1.360902   \n",
       "2020-01-01 01:30:00  1.406015  11.406015  1.451128  11.451128  1.496241   \n",
       "2020-01-01 02:00:00  1.541353  11.541353  1.586466  11.586466  1.631579   \n",
       "\n",
       "                      col2_t-0  col1_t+1   col2_t+1  col1_t+2   col2_t+2  \n",
       "2020-01-01 00:00:00  11.090225  1.135338  11.135339  1.270677  11.270677  \n",
       "2020-01-01 00:30:00  11.225564  1.270677  11.270677  1.406015  11.406015  \n",
       "2020-01-01 01:00:00  11.360902  1.406015  11.406015  1.541353  11.541353  \n",
       "2020-01-01 01:30:00  11.496241  1.541353  11.541353  1.676692  11.676692  \n",
       "2020-01-01 02:00:00  11.631579  1.676692  11.676692  1.812030  11.812030  "
      ]
     },
     "metadata": {},
     "output_type": "display_data"
    }
   ],
   "source": [
    "xy,cols = temporal.dfs_to_xy(df2d_10T,df2d_30T,\n",
    "                             n_tx_step=n_tx_step,n_ty_step=6, n_tx=n_tx, n_ty=n_ty,\n",
    "                             dim3=False)\n",
    "print(xy.shape)\n",
    "ipd(xy.head())"
   ]
  },
  {
   "cell_type": "code",
   "execution_count": 119,
   "metadata": {},
   "outputs": [
    {
     "data": {
      "text/html": [
       "<div>\n",
       "<style scoped>\n",
       "    .dataframe tbody tr th:only-of-type {\n",
       "        vertical-align: middle;\n",
       "    }\n",
       "\n",
       "    .dataframe tbody tr th {\n",
       "        vertical-align: top;\n",
       "    }\n",
       "\n",
       "    .dataframe thead th {\n",
       "        text-align: right;\n",
       "    }\n",
       "</style>\n",
       "<table border=\"1\" class=\"dataframe\">\n",
       "  <thead>\n",
       "    <tr style=\"text-align: right;\">\n",
       "      <th></th>\n",
       "      <th>col1_t-2</th>\n",
       "      <th>col2_t-2</th>\n",
       "      <th>col1_t-1</th>\n",
       "      <th>col2_t-1</th>\n",
       "      <th>col1_t-0</th>\n",
       "      <th>col2_t-0</th>\n",
       "      <th>col1_t+1</th>\n",
       "      <th>col2_t+1</th>\n",
       "    </tr>\n",
       "  </thead>\n",
       "  <tbody>\n",
       "    <tr>\n",
       "      <th>2020-01-01 00:00:00</th>\n",
       "      <td>1.000000</td>\n",
       "      <td>11.000000</td>\n",
       "      <td>1.045113</td>\n",
       "      <td>11.045113</td>\n",
       "      <td>1.090226</td>\n",
       "      <td>11.090225</td>\n",
       "      <td>1.135338</td>\n",
       "      <td>11.135339</td>\n",
       "    </tr>\n",
       "    <tr>\n",
       "      <th>2020-01-01 00:30:00</th>\n",
       "      <td>1.135338</td>\n",
       "      <td>11.135339</td>\n",
       "      <td>1.180451</td>\n",
       "      <td>11.180451</td>\n",
       "      <td>1.225564</td>\n",
       "      <td>11.225564</td>\n",
       "      <td>1.270677</td>\n",
       "      <td>11.270677</td>\n",
       "    </tr>\n",
       "    <tr>\n",
       "      <th>2020-01-01 01:00:00</th>\n",
       "      <td>1.270677</td>\n",
       "      <td>11.270677</td>\n",
       "      <td>1.315789</td>\n",
       "      <td>11.315789</td>\n",
       "      <td>1.360902</td>\n",
       "      <td>11.360902</td>\n",
       "      <td>1.406015</td>\n",
       "      <td>11.406015</td>\n",
       "    </tr>\n",
       "    <tr>\n",
       "      <th>2020-01-01 01:30:00</th>\n",
       "      <td>1.406015</td>\n",
       "      <td>11.406015</td>\n",
       "      <td>1.451128</td>\n",
       "      <td>11.451128</td>\n",
       "      <td>1.496241</td>\n",
       "      <td>11.496241</td>\n",
       "      <td>1.541353</td>\n",
       "      <td>11.541353</td>\n",
       "    </tr>\n",
       "    <tr>\n",
       "      <th>2020-01-01 02:00:00</th>\n",
       "      <td>1.541353</td>\n",
       "      <td>11.541353</td>\n",
       "      <td>1.586466</td>\n",
       "      <td>11.586466</td>\n",
       "      <td>1.631579</td>\n",
       "      <td>11.631579</td>\n",
       "      <td>1.676692</td>\n",
       "      <td>11.676692</td>\n",
       "    </tr>\n",
       "  </tbody>\n",
       "</table>\n",
       "</div>"
      ],
      "text/plain": [
       "                     col1_t-2   col2_t-2  col1_t-1   col2_t-1  col1_t-0  \\\n",
       "2020-01-01 00:00:00  1.000000  11.000000  1.045113  11.045113  1.090226   \n",
       "2020-01-01 00:30:00  1.135338  11.135339  1.180451  11.180451  1.225564   \n",
       "2020-01-01 01:00:00  1.270677  11.270677  1.315789  11.315789  1.360902   \n",
       "2020-01-01 01:30:00  1.406015  11.406015  1.451128  11.451128  1.496241   \n",
       "2020-01-01 02:00:00  1.541353  11.541353  1.586466  11.586466  1.631579   \n",
       "\n",
       "                      col2_t-0  col1_t+1   col2_t+1  \n",
       "2020-01-01 00:00:00  11.090225  1.135338  11.135339  \n",
       "2020-01-01 00:30:00  11.225564  1.270677  11.270677  \n",
       "2020-01-01 01:00:00  11.360902  1.406015  11.406015  \n",
       "2020-01-01 01:30:00  11.496241  1.541353  11.541353  \n",
       "2020-01-01 02:00:00  11.631579  1.676692  11.676692  "
      ]
     },
     "metadata": {},
     "output_type": "display_data"
    }
   ],
   "source": [
    "xy,cols = temporal.df_to_xy(df2d_10T,n_tx=n_tx,n_ty=1,dim3=False)\n",
    "ipd(xy.head(3*5).iloc[::n_tx,:])"
   ]
  },
  {
   "cell_type": "code",
   "execution_count": 118,
   "metadata": {},
   "outputs": [
    {
     "data": {
      "text/html": [
       "<div>\n",
       "<style scoped>\n",
       "    .dataframe tbody tr th:only-of-type {\n",
       "        vertical-align: middle;\n",
       "    }\n",
       "\n",
       "    .dataframe tbody tr th {\n",
       "        vertical-align: top;\n",
       "    }\n",
       "\n",
       "    .dataframe thead th {\n",
       "        text-align: right;\n",
       "    }\n",
       "</style>\n",
       "<table border=\"1\" class=\"dataframe\">\n",
       "  <thead>\n",
       "    <tr style=\"text-align: right;\">\n",
       "      <th></th>\n",
       "      <th>col1_t-0</th>\n",
       "      <th>col2_t-0</th>\n",
       "      <th>col1_t+1</th>\n",
       "      <th>col2_t+1</th>\n",
       "      <th>col1_t+2</th>\n",
       "      <th>col2_t+2</th>\n",
       "    </tr>\n",
       "  </thead>\n",
       "  <tbody>\n",
       "    <tr>\n",
       "      <th>2020-01-01 00:00:00</th>\n",
       "      <td>1.000000</td>\n",
       "      <td>11.000000</td>\n",
       "      <td>1.135338</td>\n",
       "      <td>11.135339</td>\n",
       "      <td>1.270677</td>\n",
       "      <td>11.270677</td>\n",
       "    </tr>\n",
       "    <tr>\n",
       "      <th>2020-01-01 00:30:00</th>\n",
       "      <td>1.135338</td>\n",
       "      <td>11.135339</td>\n",
       "      <td>1.270677</td>\n",
       "      <td>11.270677</td>\n",
       "      <td>1.406015</td>\n",
       "      <td>11.406015</td>\n",
       "    </tr>\n",
       "    <tr>\n",
       "      <th>2020-01-01 01:00:00</th>\n",
       "      <td>1.270677</td>\n",
       "      <td>11.270677</td>\n",
       "      <td>1.406015</td>\n",
       "      <td>11.406015</td>\n",
       "      <td>1.541353</td>\n",
       "      <td>11.541353</td>\n",
       "    </tr>\n",
       "    <tr>\n",
       "      <th>2020-01-01 01:30:00</th>\n",
       "      <td>1.406015</td>\n",
       "      <td>11.406015</td>\n",
       "      <td>1.541353</td>\n",
       "      <td>11.541353</td>\n",
       "      <td>1.676692</td>\n",
       "      <td>11.676692</td>\n",
       "    </tr>\n",
       "    <tr>\n",
       "      <th>2020-01-01 02:00:00</th>\n",
       "      <td>1.541353</td>\n",
       "      <td>11.541353</td>\n",
       "      <td>1.676692</td>\n",
       "      <td>11.676692</td>\n",
       "      <td>1.812030</td>\n",
       "      <td>11.812030</td>\n",
       "    </tr>\n",
       "  </tbody>\n",
       "</table>\n",
       "</div>"
      ],
      "text/plain": [
       "                     col1_t-0   col2_t-0  col1_t+1   col2_t+1  col1_t+2  \\\n",
       "2020-01-01 00:00:00  1.000000  11.000000  1.135338  11.135339  1.270677   \n",
       "2020-01-01 00:30:00  1.135338  11.135339  1.270677  11.270677  1.406015   \n",
       "2020-01-01 01:00:00  1.270677  11.270677  1.406015  11.406015  1.541353   \n",
       "2020-01-01 01:30:00  1.406015  11.406015  1.541353  11.541353  1.676692   \n",
       "2020-01-01 02:00:00  1.541353  11.541353  1.676692  11.676692  1.812030   \n",
       "\n",
       "                      col2_t+2  \n",
       "2020-01-01 00:00:00  11.270677  \n",
       "2020-01-01 00:30:00  11.406015  \n",
       "2020-01-01 01:00:00  11.541353  \n",
       "2020-01-01 01:30:00  11.676692  \n",
       "2020-01-01 02:00:00  11.812030  "
      ]
     },
     "metadata": {},
     "output_type": "display_data"
    }
   ],
   "source": [
    "xy,cols = temporal.df_to_xy(df2d_30T,n_tx=1,n_ty=n_ty,dim3=False)\n",
    "ipd(xy.head())"
   ]
  },
  {
   "cell_type": "code",
   "execution_count": 120,
   "metadata": {},
   "outputs": [],
   "source": [
    "n_tx = 2\n",
    "n_ty = 2\n",
    "n_tx_step = 3"
   ]
  },
  {
   "cell_type": "code",
   "execution_count": 121,
   "metadata": {},
   "outputs": [
    {
     "name": "stdout",
     "output_type": "stream",
     "text": [
      "(66, 8)\n"
     ]
    },
    {
     "data": {
      "text/html": [
       "<div>\n",
       "<style scoped>\n",
       "    .dataframe tbody tr th:only-of-type {\n",
       "        vertical-align: middle;\n",
       "    }\n",
       "\n",
       "    .dataframe tbody tr th {\n",
       "        vertical-align: top;\n",
       "    }\n",
       "\n",
       "    .dataframe thead th {\n",
       "        text-align: right;\n",
       "    }\n",
       "</style>\n",
       "<table border=\"1\" class=\"dataframe\">\n",
       "  <thead>\n",
       "    <tr style=\"text-align: right;\">\n",
       "      <th></th>\n",
       "      <th>col1_t-1</th>\n",
       "      <th>col2_t-1</th>\n",
       "      <th>col1_t-0</th>\n",
       "      <th>col2_t-0</th>\n",
       "      <th>col1_t+1</th>\n",
       "      <th>col2_t+1</th>\n",
       "      <th>col1_t+2</th>\n",
       "      <th>col2_t+2</th>\n",
       "    </tr>\n",
       "  </thead>\n",
       "  <tbody>\n",
       "    <tr>\n",
       "      <th>2020-01-01 00:00:00</th>\n",
       "      <td>1.000000</td>\n",
       "      <td>11.000000</td>\n",
       "      <td>1.067669</td>\n",
       "      <td>11.067669</td>\n",
       "      <td>1.135338</td>\n",
       "      <td>11.135339</td>\n",
       "      <td>1.270677</td>\n",
       "      <td>11.270677</td>\n",
       "    </tr>\n",
       "    <tr>\n",
       "      <th>2020-01-01 00:30:00</th>\n",
       "      <td>1.135338</td>\n",
       "      <td>11.135339</td>\n",
       "      <td>1.203007</td>\n",
       "      <td>11.203008</td>\n",
       "      <td>1.270677</td>\n",
       "      <td>11.270677</td>\n",
       "      <td>1.406015</td>\n",
       "      <td>11.406015</td>\n",
       "    </tr>\n",
       "    <tr>\n",
       "      <th>2020-01-01 01:00:00</th>\n",
       "      <td>1.270677</td>\n",
       "      <td>11.270677</td>\n",
       "      <td>1.338346</td>\n",
       "      <td>11.338346</td>\n",
       "      <td>1.406015</td>\n",
       "      <td>11.406015</td>\n",
       "      <td>1.541353</td>\n",
       "      <td>11.541353</td>\n",
       "    </tr>\n",
       "    <tr>\n",
       "      <th>2020-01-01 01:30:00</th>\n",
       "      <td>1.406015</td>\n",
       "      <td>11.406015</td>\n",
       "      <td>1.473684</td>\n",
       "      <td>11.473684</td>\n",
       "      <td>1.541353</td>\n",
       "      <td>11.541353</td>\n",
       "      <td>1.676692</td>\n",
       "      <td>11.676692</td>\n",
       "    </tr>\n",
       "    <tr>\n",
       "      <th>2020-01-01 02:00:00</th>\n",
       "      <td>1.541353</td>\n",
       "      <td>11.541353</td>\n",
       "      <td>1.609022</td>\n",
       "      <td>11.609022</td>\n",
       "      <td>1.676692</td>\n",
       "      <td>11.676692</td>\n",
       "      <td>1.812030</td>\n",
       "      <td>11.812030</td>\n",
       "    </tr>\n",
       "  </tbody>\n",
       "</table>\n",
       "</div>"
      ],
      "text/plain": [
       "                     col1_t-1   col2_t-1  col1_t-0   col2_t-0  col1_t+1  \\\n",
       "2020-01-01 00:00:00  1.000000  11.000000  1.067669  11.067669  1.135338   \n",
       "2020-01-01 00:30:00  1.135338  11.135339  1.203007  11.203008  1.270677   \n",
       "2020-01-01 01:00:00  1.270677  11.270677  1.338346  11.338346  1.406015   \n",
       "2020-01-01 01:30:00  1.406015  11.406015  1.473684  11.473684  1.541353   \n",
       "2020-01-01 02:00:00  1.541353  11.541353  1.609022  11.609022  1.676692   \n",
       "\n",
       "                      col2_t+1  col1_t+2   col2_t+2  \n",
       "2020-01-01 00:00:00  11.135339  1.270677  11.270677  \n",
       "2020-01-01 00:30:00  11.270677  1.406015  11.406015  \n",
       "2020-01-01 01:00:00  11.406015  1.541353  11.541353  \n",
       "2020-01-01 01:30:00  11.541353  1.676692  11.676692  \n",
       "2020-01-01 02:00:00  11.676692  1.812030  11.812030  "
      ]
     },
     "metadata": {},
     "output_type": "display_data"
    }
   ],
   "source": [
    "xy,cols = temporal.dfs_to_xy(df2d_15T,df2d_30T,\n",
    "                             n_tx_step=n_tx_step,n_ty_step=6, n_tx=n_tx, n_ty=n_ty,\n",
    "                             dim3=False)\n",
    "print(xy.shape)\n",
    "ipd(xy.head())"
   ]
  },
  {
   "cell_type": "markdown",
   "metadata": {},
   "source": [
    "## Read some of samiul_i75 data"
   ]
  },
  {
   "cell_type": "code",
   "execution_count": null,
   "metadata": {},
   "outputs": [],
   "source": [
    "from ezai.data import ritis\n",
    "from ezai.util import vis_util\n",
    "from ezai.util import dict_util\n",
    "from ezai.util import df_util\n",
    "from ezai.data import temporal"
   ]
  },
  {
   "cell_type": "code",
   "execution_count": 131,
   "metadata": {},
   "outputs": [
    {
     "name": "stdout",
     "output_type": "stream",
     "text": [
      "/home/armando/traffic_flow_exp/n3_1/data/samiul_i75-I_75-S-1-5/f\n",
      "file= 9816.npz , shapes= (213, 24, 1) (213, 2)\n",
      "file= 9816-conf.json zid= 9816 , shapes= 24 , 1 and 2 * 1\n",
      "{\n",
      "    \"n_tx\": 24,\n",
      "    \"n_ty\": 2,\n",
      "    \"n_vx\": 1,\n",
      "    \"n_vy\": 1,\n",
      "    \"n_agg\": 5,\n",
      "    \"h\": 1,\n",
      "    \"x_cols\": [\n",
      "        \"speed\"\n",
      "    ],\n",
      "    \"y_cols\": [\n",
      "        \"speed\"\n",
      "    ],\n",
      "    \"months\": [\n",
      "        9\n",
      "    ],\n",
      "    \"weekdays\": [\n",
      "        0,\n",
      "        1,\n",
      "        2,\n",
      "        3,\n",
      "        4\n",
      "    ],\n",
      "    \"trim_partial_weeks\": true,\n",
      "    \"n_tx_duration\": 0,\n",
      "    \"road\": \"I_75\",\n",
      "    \"direction\": \"S\",\n",
      "    \"n_tx_step\": 1,\n",
      "    \"n_ty_step\": 6,\n",
      "    \"derived_features\": \"f\",\n",
      "    \"id\": \"9816\",\n",
      "    \"xy_cols\": [\n",
      "        \"speed\"\n",
      "    ]\n",
      "}\n"
     ]
    }
   ],
   "source": [
    "# first list all the folders\n",
    "for exp_id,source_data in zip(['n3_1'],['samiul_i75']):\n",
    "    expdata_home = os.path.normpath(os.path.join(os.path.expanduser('~'),'traffic_flow_exp',exp_id,'data'))\n",
    "    n_cols = [1,3]\n",
    "    n_aggs = [5,10,15]\n",
    "    derived_features = ['f','sf','tf','stf']\n",
    "\n",
    "    from itertools import product\n",
    "    from glob import glob\n",
    "\n",
    "    folders = []\n",
    "    for n_col,n_agg,derived_feature in product(n_cols,n_aggs,derived_features):\n",
    "        datafolders = glob(os.path.join(expdata_home, '{}-*-{}-{}/{}'.format(source_data,\n",
    "                                                                          n_col,\n",
    "                                                                          n_agg,\n",
    "                                                                          derived_feature)))\n",
    "        folders.extend(datafolders[:1])\n",
    "    #display(folders)\n",
    "    \n",
    "    for datafolder in folders[:1]:\n",
    "        print(datafolder)\n",
    "        npz_files = glob(os.path.join(datafolder, '*.npz'))\n",
    "        conf_files = glob(os.path.join(datafolder, '*-conf.json'))\n",
    "        \n",
    "        for filename in sorted(npz_files)[:1]:\n",
    "            xy_loaded = np.load(filename)\n",
    "            print('file=', os.path.basename(filename), \n",
    "                  ', shapes=', xy_loaded['x'].shape, xy_loaded['y'].shape)\n",
    "\n",
    "        for filename in sorted(conf_files)[:1]:\n",
    "            conf = dict_util.DictObj(filename)\n",
    "            print('file=', os.path.basename(filename), \n",
    "                  'zid=', conf.id, \n",
    "                  ', shapes=', conf.n_tx, ',',conf.n_vx, 'and', conf.n_ty, '*', conf.n_vy)\n",
    "            print(conf.dumps_json())\n"
   ]
  },
  {
   "cell_type": "code",
   "execution_count": null,
   "metadata": {},
   "outputs": [],
   "source": []
  },
  {
   "cell_type": "code",
   "execution_count": null,
   "metadata": {},
   "outputs": [],
   "source": [
    "source_data = 'samiul_i75'\n",
    "conf.setdefault('months', []) #for samiul_75 only\n",
    "filetype='csv'\n"
   ]
  },
  {
   "cell_type": "code",
   "execution_count": null,
   "metadata": {},
   "outputs": [],
   "source": [
    "rd = ritis.RITISDetector(source_data)"
   ]
  },
  {
   "cell_type": "code",
   "execution_count": null,
   "metadata": {},
   "outputs": [],
   "source": [
    "rd = rd.load_raw(kind=('meta','zone'),filetype='parquet')\n",
    "rd.info()"
   ]
  },
  {
   "cell_type": "code",
   "execution_count": null,
   "metadata": {},
   "outputs": [],
   "source": [
    "rd.filter_by_common_id()\n",
    "rd.info()"
   ]
  },
  {
   "cell_type": "code",
   "execution_count": null,
   "metadata": {},
   "outputs": [],
   "source": [
    "from traffic_flow.ritis_exp import *\n",
    "#expdata_home = os.path.normpath(os.path.join(os.path.expanduser('~'),'traffic_flow_exp','n2','data'))\n",
    "#build_data_exp_n2(rd,conf, n_adj_id = 6, expdata_home=expdata_home)"
   ]
  },
  {
   "cell_type": "code",
   "execution_count": null,
   "metadata": {},
   "outputs": [],
   "source": []
  },
  {
   "cell_type": "code",
   "execution_count": null,
   "metadata": {},
   "outputs": [],
   "source": []
  },
  {
   "cell_type": "code",
   "execution_count": null,
   "metadata": {},
   "outputs": [],
   "source": []
  },
  {
   "cell_type": "code",
   "execution_count": null,
   "metadata": {},
   "outputs": [],
   "source": []
  },
  {
   "cell_type": "code",
   "execution_count": null,
   "metadata": {},
   "outputs": [],
   "source": []
  },
  {
   "cell_type": "markdown",
   "metadata": {},
   "source": [
    "## Temporal Model"
   ]
  },
  {
   "cell_type": "code",
   "execution_count": 9,
   "metadata": {},
   "outputs": [],
   "source": []
  },
  {
   "cell_type": "code",
   "execution_count": 14,
   "metadata": {},
   "outputs": [],
   "source": [
    "expdata_home = os.path.normpath(os.path.join(os.path.expanduser('~'),'traffic_flow_exp','n2','data'))\n",
    "source_data = 'samiul_i75'"
   ]
  },
  {
   "cell_type": "code",
   "execution_count": 16,
   "metadata": {},
   "outputs": [
    {
     "data": {
      "text/plain": [
       "['/home/armando/traffic_flow_exp/n2/data/samiul_i75-I_75-S-1-5/f',\n",
       " '/home/armando/traffic_flow_exp/n2/data/samiul_i75-I_75-S-1-5/sf',\n",
       " '/home/armando/traffic_flow_exp/n2/data/samiul_i75-I_75-S-1-5/tf',\n",
       " '/home/armando/traffic_flow_exp/n2/data/samiul_i75-I_75-S-1-5/stf',\n",
       " '/home/armando/traffic_flow_exp/n2/data/samiul_i75-I_75-N-1-10/f',\n",
       " '/home/armando/traffic_flow_exp/n2/data/samiul_i75-I_75-N-1-10/sf',\n",
       " '/home/armando/traffic_flow_exp/n2/data/samiul_i75-I_75-N-1-10/tf',\n",
       " '/home/armando/traffic_flow_exp/n2/data/samiul_i75-I_75-N-1-10/stf',\n",
       " '/home/armando/traffic_flow_exp/n2/data/samiul_i75-I_75-S-1-15/f',\n",
       " '/home/armando/traffic_flow_exp/n2/data/samiul_i75-I_75-S-1-15/sf',\n",
       " '/home/armando/traffic_flow_exp/n2/data/samiul_i75-I_75-S-1-15/tf',\n",
       " '/home/armando/traffic_flow_exp/n2/data/samiul_i75-I_75-S-1-15/stf',\n",
       " '/home/armando/traffic_flow_exp/n2/data/samiul_i75-I_75-N-3-5/f',\n",
       " '/home/armando/traffic_flow_exp/n2/data/samiul_i75-I_75-N-3-5/sf',\n",
       " '/home/armando/traffic_flow_exp/n2/data/samiul_i75-I_75-N-3-5/tf',\n",
       " '/home/armando/traffic_flow_exp/n2/data/samiul_i75-I_75-N-3-5/stf',\n",
       " '/home/armando/traffic_flow_exp/n2/data/samiul_i75-I_75-N-3-10/f',\n",
       " '/home/armando/traffic_flow_exp/n2/data/samiul_i75-I_75-N-3-10/sf',\n",
       " '/home/armando/traffic_flow_exp/n2/data/samiul_i75-I_75-N-3-10/tf',\n",
       " '/home/armando/traffic_flow_exp/n2/data/samiul_i75-I_75-N-3-10/stf',\n",
       " '/home/armando/traffic_flow_exp/n2/data/samiul_i75-I_75-S-3-15/f',\n",
       " '/home/armando/traffic_flow_exp/n2/data/samiul_i75-I_75-S-3-15/sf',\n",
       " '/home/armando/traffic_flow_exp/n2/data/samiul_i75-I_75-S-3-15/tf',\n",
       " '/home/armando/traffic_flow_exp/n2/data/samiul_i75-I_75-S-3-15/stf']"
      ]
     },
     "metadata": {},
     "output_type": "display_data"
    }
   ],
   "source": [
    "# first list all the folders\n",
    "\n",
    "n_cols = [1,3]\n",
    "n_aggs = [5,10,15]\n",
    "derived_features = ['f','sf','tf','stf']\n",
    "\n",
    "from itertools import product\n",
    "from glob import glob\n",
    "\n",
    "folders = []\n",
    "for n_col,n_agg,derived_feature in product(n_cols,n_aggs,derived_features):\n",
    "    datafolders = glob(os.path.join(expdata_home, '{}-*-{}-{}/{}'.format(source_data,\n",
    "                                                                      n_col,\n",
    "                                                                      n_agg,\n",
    "                                                                      derived_feature)))\n",
    "    folders.extend(datafolders[:1])\n",
    "ipd(folders)"
   ]
  },
  {
   "cell_type": "code",
   "execution_count": 18,
   "metadata": {},
   "outputs": [
    {
     "name": "stdout",
     "output_type": "stream",
     "text": [
      "/home/armando/traffic_flow_exp/n2/data/samiul_i75-I_75-S-1-5/f\n",
      "file= 9816.npz , shapes= (1264, 24, 1) (1264, 12)\n",
      "file= 9816-conf.json zid= 9816 , shapes= 24 , 1 and 12 * 1\n"
     ]
    }
   ],
   "source": [
    "for datafolder in folders:\n",
    "    print(datafolder)\n",
    "    npz_files = glob(os.path.join(datafolder, '*.npz'))\n",
    "    conf_files = glob(os.path.join(datafolder, '*-conf.json'))\n",
    "    for filename in sorted(npz_files)[:1]:\n",
    "        xy_loaded = np.load(filename)\n",
    "        print('file=', os.path.basename(filename), ', shapes=', xy_loaded['x'].shape, xy_loaded['y'].shape)\n",
    "        break\n",
    "        \n",
    "    for filename in sorted(conf_files)[:1]:\n",
    "        conf = dict_util.DictObj(filename)\n",
    "        print('file=', os.path.basename(filename), 'zid=', conf.id, ', shapes=', conf.n_tx, ',',conf.n_vx, 'and', conf.n_ty, '*', conf.n_vy)\n",
    "        break\n",
    "    break    "
   ]
  },
  {
   "cell_type": "code",
   "execution_count": 15,
   "metadata": {},
   "outputs": [
    {
     "data": {
      "text/html": [
       "<div>\n",
       "<style scoped>\n",
       "    .dataframe tbody tr th:only-of-type {\n",
       "        vertical-align: middle;\n",
       "    }\n",
       "\n",
       "    .dataframe tbody tr th {\n",
       "        vertical-align: top;\n",
       "    }\n",
       "\n",
       "    .dataframe thead th {\n",
       "        text-align: right;\n",
       "    }\n",
       "</style>\n",
       "<table border=\"1\" class=\"dataframe\">\n",
       "  <thead>\n",
       "    <tr style=\"text-align: right;\">\n",
       "      <th></th>\n",
       "      <th>col1_t-0</th>\n",
       "      <th>col1_t+1</th>\n",
       "    </tr>\n",
       "  </thead>\n",
       "  <tbody>\n",
       "    <tr>\n",
       "      <th>2020-01-01 00:00:00</th>\n",
       "      <td>1.000000</td>\n",
       "      <td>1.090909</td>\n",
       "    </tr>\n",
       "    <tr>\n",
       "      <th>2020-01-01 01:00:00</th>\n",
       "      <td>1.090909</td>\n",
       "      <td>1.181818</td>\n",
       "    </tr>\n",
       "    <tr>\n",
       "      <th>2020-01-01 02:00:00</th>\n",
       "      <td>1.181818</td>\n",
       "      <td>1.272727</td>\n",
       "    </tr>\n",
       "    <tr>\n",
       "      <th>2020-01-01 03:00:00</th>\n",
       "      <td>1.272727</td>\n",
       "      <td>1.363636</td>\n",
       "    </tr>\n",
       "    <tr>\n",
       "      <th>2020-01-01 04:00:00</th>\n",
       "      <td>1.363636</td>\n",
       "      <td>1.454545</td>\n",
       "    </tr>\n",
       "  </tbody>\n",
       "</table>\n",
       "</div>"
      ],
      "text/plain": [
       "                     col1_t-0  col1_t+1\n",
       "2020-01-01 00:00:00  1.000000  1.090909\n",
       "2020-01-01 01:00:00  1.090909  1.181818\n",
       "2020-01-01 02:00:00  1.181818  1.272727\n",
       "2020-01-01 03:00:00  1.272727  1.363636\n",
       "2020-01-01 04:00:00  1.363636  1.454545"
      ]
     },
     "metadata": {},
     "output_type": "display_data"
    }
   ],
   "source": [
    "xy_df, (x_cols,y_cols) = temporal.df_to_xy(df1d,dim3=False)\n",
    "ipd(xy_df.head())"
   ]
  },
  {
   "cell_type": "code",
   "execution_count": 17,
   "metadata": {},
   "outputs": [
    {
     "name": "stdout",
     "output_type": "stream",
     "text": [
      "['col1_t-0', 'col1_t+1']\n"
     ]
    }
   ],
   "source": [
    "xy_cols = list(set(x_cols+y_cols))\n",
    "print(xy_cols)"
   ]
  },
  {
   "cell_type": "code",
   "execution_count": 21,
   "metadata": {},
   "outputs": [
    {
     "data": {
      "text/html": [
       "<div>\n",
       "<style scoped>\n",
       "    .dataframe tbody tr th:only-of-type {\n",
       "        vertical-align: middle;\n",
       "    }\n",
       "\n",
       "    .dataframe tbody tr th {\n",
       "        vertical-align: top;\n",
       "    }\n",
       "\n",
       "    .dataframe thead th {\n",
       "        text-align: right;\n",
       "    }\n",
       "</style>\n",
       "<table border=\"1\" class=\"dataframe\">\n",
       "  <thead>\n",
       "    <tr style=\"text-align: right;\">\n",
       "      <th></th>\n",
       "      <th>col1_t-0</th>\n",
       "      <th>col1_t+1</th>\n",
       "    </tr>\n",
       "  </thead>\n",
       "  <tbody>\n",
       "    <tr>\n",
       "      <th>2020-01-01 00:00:00</th>\n",
       "      <td>0.000000</td>\n",
       "      <td>0.000000</td>\n",
       "    </tr>\n",
       "    <tr>\n",
       "      <th>2020-01-01 01:00:00</th>\n",
       "      <td>0.010204</td>\n",
       "      <td>0.010204</td>\n",
       "    </tr>\n",
       "    <tr>\n",
       "      <th>2020-01-01 02:00:00</th>\n",
       "      <td>0.020408</td>\n",
       "      <td>0.020408</td>\n",
       "    </tr>\n",
       "    <tr>\n",
       "      <th>2020-01-01 03:00:00</th>\n",
       "      <td>0.030612</td>\n",
       "      <td>0.030612</td>\n",
       "    </tr>\n",
       "    <tr>\n",
       "      <th>2020-01-01 04:00:00</th>\n",
       "      <td>0.040816</td>\n",
       "      <td>0.040816</td>\n",
       "    </tr>\n",
       "  </tbody>\n",
       "</table>\n",
       "</div>"
      ],
      "text/plain": [
       "                     col1_t-0  col1_t+1\n",
       "2020-01-01 00:00:00  0.000000  0.000000\n",
       "2020-01-01 01:00:00  0.010204  0.010204\n",
       "2020-01-01 02:00:00  0.020408  0.020408\n",
       "2020-01-01 03:00:00  0.030612  0.030612\n",
       "2020-01-01 04:00:00  0.040816  0.040816"
      ]
     },
     "metadata": {},
     "output_type": "display_data"
    }
   ],
   "source": [
    "scaler_xy = scalers.MinMaxScaler().fit(xy_df[xy_cols].to_numpy())\n",
    "sdf = scaler_xy.transform(xy_df[xy_cols])\n",
    "ipd(sdf.head())"
   ]
  },
  {
   "cell_type": "code",
   "execution_count": 23,
   "metadata": {},
   "outputs": [
    {
     "ename": "NameError",
     "evalue": "name 'id_df' is not defined",
     "output_type": "error",
     "traceback": [
      "\u001b[0;31m---------------------------------------------------------------------------\u001b[0m",
      "\u001b[0;31mNameError\u001b[0m                                 Traceback (most recent call last)",
      "\u001b[0;32m<ipython-input-23-6171443c0fd7>\u001b[0m in \u001b[0;36m<module>\u001b[0;34m\u001b[0m\n\u001b[1;32m      1\u001b[0m \u001b[0;32mfrom\u001b[0m \u001b[0mtraffic_flow\u001b[0m\u001b[0;34m.\u001b[0m\u001b[0mexperiments\u001b[0m \u001b[0;32mimport\u001b[0m \u001b[0mn2_data\u001b[0m\u001b[0;34m\u001b[0m\u001b[0;34m\u001b[0m\u001b[0m\n\u001b[0;32m----> 2\u001b[0;31m \u001b[0mxy\u001b[0m \u001b[0;34m=\u001b[0m \u001b[0mn2_data\u001b[0m\u001b[0;34m.\u001b[0m\u001b[0mexp_n2_to_xy\u001b[0m\u001b[0;34m(\u001b[0m\u001b[0mid_df\u001b[0m\u001b[0;34m,\u001b[0m\u001b[0mconf\u001b[0m\u001b[0;34m=\u001b[0m\u001b[0mconf1\u001b[0m\u001b[0;34m)\u001b[0m\u001b[0;34m\u001b[0m\u001b[0;34m\u001b[0m\u001b[0m\n\u001b[0m\u001b[1;32m      3\u001b[0m \u001b[0mprint\u001b[0m\u001b[0;34m(\u001b[0m\u001b[0mxy\u001b[0m\u001b[0;34m.\u001b[0m\u001b[0mshape\u001b[0m\u001b[0;34m)\u001b[0m\u001b[0;34m\u001b[0m\u001b[0;34m\u001b[0m\u001b[0m\n",
      "\u001b[0;31mNameError\u001b[0m: name 'id_df' is not defined"
     ]
    }
   ],
   "source": [
    "from traffic_flow.experiments import n2_data\n",
    "xy = n2_data.exp_n2_to_xy(id_df,conf=conf1)\n",
    "print(xy.shape)"
   ]
  },
  {
   "cell_type": "code",
   "execution_count": null,
   "metadata": {},
   "outputs": [],
   "source": []
  }
 ],
 "metadata": {
  "kernelspec": {
   "display_name": "Python 3",
   "language": "python",
   "name": "python3"
  },
  "language_info": {
   "codemirror_mode": {
    "name": "ipython",
    "version": 3
   },
   "file_extension": ".py",
   "mimetype": "text/x-python",
   "name": "python",
   "nbconvert_exporter": "python",
   "pygments_lexer": "ipython3",
   "version": "3.7.8"
  },
  "toc": {
   "base_numbering": 1,
   "nav_menu": {},
   "number_sections": true,
   "sideBar": true,
   "skip_h1_title": false,
   "title_cell": "Table of Contents",
   "title_sidebar": "Contents",
   "toc_cell": false,
   "toc_position": {},
   "toc_section_display": true,
   "toc_window_display": false
  }
 },
 "nbformat": 4,
 "nbformat_minor": 2
}
